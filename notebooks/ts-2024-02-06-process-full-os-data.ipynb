{
 "cells": [
  {
   "cell_type": "markdown",
   "id": "2758bf3a-de04-484e-9f14-9af23036738d",
   "metadata": {},
   "source": [
    "# Process the OS datasets\n",
    "\n",
    "Goals:\n",
    "- figure out how to integrate the data and what is in the datasets\n",
    "- get some basic dataset statistics"
   ]
  },
  {
   "cell_type": "code",
   "execution_count": 1,
   "id": "6ee16a5b-bba1-4229-b645-f7dfecaba750",
   "metadata": {},
   "outputs": [],
   "source": [
    "import numpy as np\n",
    "import pandas as pd\n",
    "import matplotlib.pyplot as plt\n",
    "from tqdm.notebook import trange, tqdm"
   ]
  },
  {
   "cell_type": "markdown",
   "id": "45cf6e0b-2f48-4a09-9dad-7a4c123777fc",
   "metadata": {},
   "source": [
    "## Get the datasets\n",
    "from https://data.opensanctions.org/datasets/latest/index.json"
   ]
  },
  {
   "cell_type": "code",
   "execution_count": 2,
   "id": "924fee8a-2212-4e04-abae-8c39e799596f",
   "metadata": {},
   "outputs": [],
   "source": [
    "INDEX_URL = \"https://data.opensanctions.org/datasets/latest/index.json\""
   ]
  },
  {
   "cell_type": "code",
   "execution_count": 3,
   "id": "f43031bb-041b-4acf-9c89-b2d549d14d73",
   "metadata": {},
   "outputs": [],
   "source": [
    "import requests\n",
    "import json"
   ]
  },
  {
   "cell_type": "code",
   "execution_count": 4,
   "id": "15591b55-9fc1-4066-8d10-ab160de4a445",
   "metadata": {},
   "outputs": [],
   "source": [
    "def parse_jsonl(text: str) -> str:\n",
    "    try:\n",
    "        data = []\n",
    "        for line in text.split(\"\\n\"):\n",
    "            # Load each JSON line into a Python dictionary\n",
    "            l = line.strip()\n",
    "            if l:\n",
    "                jd = json.loads(l)\n",
    "                data.append(jd)\n",
    "        return data\n",
    "    except FileNotFoundError:\n",
    "        print(f\"File not found: {file_path}\")\n",
    "    except json.JSONDecodeError as e:\n",
    "        print(f\"Error decoding JSON: {e}\")\n",
    "    except Exception as e:\n",
    "        print(f\"An error occurred: {e}\")\n",
    "        \n",
    "\n",
    "def get_json_from_url(url: str) -> str:\n",
    "    try:\n",
    "        # Make a GET request to the URL\n",
    "        response = requests.get(url)\n",
    "    \n",
    "        # Check if the request was successful (status code 200)\n",
    "        if response.status_code == 200:\n",
    "            # Parse JSON data from the response\n",
    "            try:\n",
    "                return response.json()\n",
    "            except json.JSONDecodeError as e:\n",
    "                return parse_jsonl(response.text)\n",
    "        else:\n",
    "            print(f\"Error: {response.status_code}\")\n",
    "    except requests.exceptions.RequestException as e:\n",
    "        print(f\"Request error: {e}\")"
   ]
  },
  {
   "cell_type": "code",
   "execution_count": 5,
   "id": "513797fc-08ca-430b-879e-19d72c9ab848",
   "metadata": {},
   "outputs": [],
   "source": [
    "index_json = get_json_from_url(INDEX_URL)"
   ]
  },
  {
   "cell_type": "code",
   "execution_count": 6,
   "id": "21e27e47-1001-4eb2-8a41-340e62317bac",
   "metadata": {},
   "outputs": [],
   "source": [
    "def clean_json(json_dict: dict) -> dict:\n",
    "    return {\n",
    "        'id': json_dict[\"id\"],\n",
    "        'caption': json_dict[\"caption\"],\n",
    "        'schema': json_dict[\"schema\"],\n",
    "        'properties': json_dict[\"properties\"],\n",
    "    }"
   ]
  },
  {
   "cell_type": "code",
   "execution_count": null,
   "id": "1ed58e0c-99f6-4aef-8213-7019feedc703",
   "metadata": {
    "scrolled": true
   },
   "outputs": [
    {
     "data": {
      "application/vnd.jupyter.widget-view+json": {
       "model_id": "76487ee313b74ea6a54f72b3c6e7e2b5",
       "version_major": 2,
       "version_minor": 0
      },
      "text/plain": [
       "  0%|          | 0/171 [00:00<?, ?it/s]"
      ]
     },
     "metadata": {},
     "output_type": "display_data"
    },
    {
     "name": "stdout",
     "output_type": "stream",
     "text": [
      "Wrote data to file ../data/sources/US_Health_and_Human_Sciences_Inspector_General_Exclusions.jsonl.\n",
      "Wrote data to file ../data/sources/Colombian_Administrative_Department_of_Public_Service_PEP_Declarations.jsonl.\n",
      "Wrote data to file ../data/sources/Indonesia_2018_Regional_Head_Election_Results.jsonl.\n",
      "Failed to get dataset Custom research data from Undefined list index out of range\n",
      "Wrote data to file ../data/sources/French_Senators.jsonl.\n",
      "Wrote data to file ../data/sources/DPRK_Reports.jsonl.\n"
     ]
    }
   ],
   "source": [
    "TARGET_PATH = \"../data/sources/\"\n",
    "for dataset in tqdm(index_json[\"datasets\"]):\n",
    "    data_url = \"Undefined\"\n",
    "    try:\n",
    "        resources = dataset[\"resources\"]\n",
    "        data_url = [res for res in resources if res[\"mime_type\"] == \"application/json+ftm\"][0][\"url\"]\n",
    "        json_data = get_json_from_url(data_url)\n",
    "        # reduce to only persons and clean\n",
    "        pdata = [clean_json(d) for d in json_data if d.get(\"schema\") == \"Person\"]\n",
    "        filename = TARGET_PATH + f\"{dataset['title'].replace(' ', '_')}.jsonl\"\n",
    "        with open(filename, 'w') as jsonl_file:\n",
    "            for d in pdata:\n",
    "                jsonl_file.write(json.dumps(d) + '\\n')\n",
    "        print(f\"Wrote data to file {filename}.\")\n",
    "    except Exception as e:\n",
    "        print(f\"Failed to get dataset {dataset['title']} from {data_url} {e}\")        "
   ]
  },
  {
   "cell_type": "code",
   "execution_count": 1,
   "id": "0d398d8b-7f60-4109-83ca-b10b791c365e",
   "metadata": {},
   "outputs": [
    {
     "ename": "NameError",
     "evalue": "name 'data' is not defined",
     "output_type": "error",
     "traceback": [
      "\u001b[0;31m---------------------------------------------------------------------------\u001b[0m",
      "\u001b[0;31mNameError\u001b[0m                                 Traceback (most recent call last)",
      "Cell \u001b[0;32mIn[1], line 1\u001b[0m\n\u001b[0;32m----> 1\u001b[0m \u001b[38;5;28mlen\u001b[39m(\u001b[43mdata\u001b[49m)\n",
      "\u001b[0;31mNameError\u001b[0m: name 'data' is not defined"
     ]
    }
   ],
   "source": [
    "len(data)"
   ]
  },
  {
   "cell_type": "code",
   "execution_count": 2,
   "id": "dc09a8f9-1e93-4bf4-8971-7421e28f9773",
   "metadata": {},
   "outputs": [
    {
     "ename": "NameError",
     "evalue": "name 'pdata' is not defined",
     "output_type": "error",
     "traceback": [
      "\u001b[0;31m---------------------------------------------------------------------------\u001b[0m",
      "\u001b[0;31mNameError\u001b[0m                                 Traceback (most recent call last)",
      "Cell \u001b[0;32mIn[2], line 1\u001b[0m\n\u001b[0;32m----> 1\u001b[0m \u001b[38;5;28mlen\u001b[39m(\u001b[43mpdata\u001b[49m)\n",
      "\u001b[0;31mNameError\u001b[0m: name 'pdata' is not defined"
     ]
    }
   ],
   "source": [
    "len(pdata)"
   ]
  },
  {
   "cell_type": "code",
   "execution_count": 12,
   "id": "014ddd13-c3ee-4000-bdc0-1e02375ed807",
   "metadata": {},
   "outputs": [
    {
     "data": {
      "text/plain": [
       "{'id': 'Q1000053',\n",
       " 'caption': 'Vasili Nebenzja',\n",
       " 'schema': 'Person',\n",
       " 'properties': {'gender': ['male'],\n",
       "  'name': ['Vasilij Nebenzia',\n",
       "   'Васіль Аляксеевіч Нябензя',\n",
       "   'Василий Алексеевич Небензя',\n",
       "   'Vassili Nebenzia',\n",
       "   'וסילי נבנזיה',\n",
       "   'Vasily Nebenzya',\n",
       "   'Vassili Nebenzja',\n",
       "   'Василий Небензя',\n",
       "   'Vasili Nebenzia',\n",
       "   'Vasilij Alekseevič Nebenzja',\n",
       "   'Wassili Alexejewitsch Nebensja',\n",
       "   '瓦西里·涅边贾',\n",
       "   'فاسيلي نيبينزيا',\n",
       "   'Vasilij Alexejevič Něbenzja',\n",
       "   'واسیلی نبنزیا',\n",
       "   'ワシーリー・ネベンジャ',\n",
       "   'Vasili Nebenzja',\n",
       "   'Небензя Василь Олексійович'],\n",
       "  'birthPlace': ['Volgograd'],\n",
       "  'topics': ['role.pep', 'role.diplo'],\n",
       "  'alias': ['Василий Алексеевич Небензя',\n",
       "   'ワシリー・ネベンジャ',\n",
       "   'Vasily Alekseevich Nebenzya',\n",
       "   'Vasilij Něbenzja',\n",
       "   'Василий Небензя',\n",
       "   'فاسيلي ألكسيفيتش نيبينزيا',\n",
       "   'Vasili Alekséyevich Nebenzia',\n",
       "   'Vasilij Aleksejevitj Nebenzia',\n",
       "   'Vasilij Nebenzja',\n",
       "   'Небензя, Василий Алексеевич',\n",
       "   'ヴァシリー・ネベンジャ'],\n",
       "  'fatherName': ['Alexeyevich'],\n",
       "  'wikidataId': ['Q1000053'],\n",
       "  'firstName': ['Vasily'],\n",
       "  'position': ['Permanent Representative of Russia to the United Nations (2017-)'],\n",
       "  'notes': ['Russian diplomat'],\n",
       "  'lastName': ['Nebenzia'],\n",
       "  'nationality': ['ru', 'suhh'],\n",
       "  'modifiedAt': ['2024-03-20'],\n",
       "  'education': ['Moscow State Institute of International Relations'],\n",
       "  'birthDate': ['1962-02-26']}}"
      ]
     },
     "execution_count": 12,
     "metadata": {},
     "output_type": "execute_result"
    }
   ],
   "source": [
    "pdata[0]"
   ]
  },
  {
   "cell_type": "code",
   "execution_count": 13,
   "id": "c16046ea-42a2-439a-9906-6b8e55aca203",
   "metadata": {},
   "outputs": [
    {
     "data": {
      "text/plain": [
       "{'id': 'Q7045717',\n",
       " 'caption': 'Noble Ellington',\n",
       " 'schema': 'Person',\n",
       " 'properties': {'education': ['Louisiana Tech University'],\n",
       "  'lastName': ['Ellington'],\n",
       "  'gender': ['male'],\n",
       "  'nationality': ['us'],\n",
       "  'modifiedAt': ['2023-12-06'],\n",
       "  'position': ['member of the Louisiana House of Representatives',\n",
       "   'member of the State Senate of Louisiana'],\n",
       "  'birthDate': ['1942-05-25'],\n",
       "  'notes': ['American politician'],\n",
       "  'wikidataId': ['Q7045717'],\n",
       "  'topics': ['role.pep'],\n",
       "  'alias': ['Noble Ellington'],\n",
       "  'name': ['Noble Ellington'],\n",
       "  'firstName': ['Noble']}}"
      ]
     },
     "execution_count": 13,
     "metadata": {},
     "output_type": "execute_result"
    }
   ],
   "source": [
    "pdata[186125]"
   ]
  },
  {
   "cell_type": "markdown",
   "id": "bff3ddb4-71e9-4112-bb64-ba1b145cad9c",
   "metadata": {},
   "source": [
    "## Basic statistics"
   ]
  },
  {
   "cell_type": "code",
   "execution_count": 2,
   "id": "a4af017f-21da-4fe0-8f02-a9993081aee3",
   "metadata": {},
   "outputs": [
    {
     "ename": "NameError",
     "evalue": "name 'pdata' is not defined",
     "output_type": "error",
     "traceback": [
      "\u001b[0;31m---------------------------------------------------------------------------\u001b[0m",
      "\u001b[0;31mNameError\u001b[0m                                 Traceback (most recent call last)",
      "Cell \u001b[0;32mIn[2], line 2\u001b[0m\n\u001b[1;32m      1\u001b[0m \u001b[38;5;66;03m# genders\u001b[39;00m\n\u001b[0;32m----> 2\u001b[0m gender_data \u001b[38;5;241m=\u001b[39m [p[\u001b[38;5;124m\"\u001b[39m\u001b[38;5;124mproperties\u001b[39m\u001b[38;5;124m\"\u001b[39m]\u001b[38;5;241m.\u001b[39mget(\u001b[38;5;124m\"\u001b[39m\u001b[38;5;124mgender\u001b[39m\u001b[38;5;124m\"\u001b[39m, [\u001b[38;5;124m\"\u001b[39m\u001b[38;5;124munknown\u001b[39m\u001b[38;5;124m\"\u001b[39m])[\u001b[38;5;241m0\u001b[39m] \u001b[38;5;28;01mfor\u001b[39;00m p \u001b[38;5;129;01min\u001b[39;00m \u001b[43mpdata\u001b[49m]\n\u001b[1;32m      3\u001b[0m \u001b[38;5;66;03m# Count the occurrences\u001b[39;00m\n\u001b[1;32m      4\u001b[0m gender_counts \u001b[38;5;241m=\u001b[39m {gender: gender_data\u001b[38;5;241m.\u001b[39mcount(gender) \u001b[38;5;28;01mfor\u001b[39;00m gender \u001b[38;5;129;01min\u001b[39;00m \u001b[38;5;28mset\u001b[39m(gender_data)}\n",
      "\u001b[0;31mNameError\u001b[0m: name 'pdata' is not defined"
     ]
    }
   ],
   "source": [
    "# genders\n",
    "gender_data = [p[\"properties\"].get(\"gender\", [\"unknown\"])[0] for p in pdata]\n",
    "# Count the occurrences\n",
    "gender_counts = {gender: gender_data.count(gender) for gender in set(gender_data)}\n",
    "\n",
    "# Extract data for plotting\n",
    "genders = list(gender_counts.keys())\n",
    "counts = list(gender_counts.values())\n",
    "\n",
    "# Create a bar plot\n",
    "plt.bar(genders, counts, color='skyblue')\n",
    "\n",
    "plt.xlabel('Gender')\n",
    "plt.ylabel('Count')\n",
    "plt.title('Gender Distribution')\n",
    "\n",
    "plt.show()"
   ]
  },
  {
   "cell_type": "code",
   "execution_count": null,
   "id": "f856f185-f692-42e2-abd3-1860e317ff2a",
   "metadata": {},
   "outputs": [],
   "source": [
    "# nationality\n",
    "nationality_data = [p[\"properties\"].get(\"nationality\", [\"unknown\"])[0] for p in pdata]\n",
    "# Count the occurrences\n",
    "nationality_counts = {nationality: nationality_data.count(nationality) for nationality in set(nationality_data)}\n",
    "\n",
    "# Extract data for plotting\n",
    "nationalities = list(nationality_counts.keys())\n",
    "counts = list(nationality_counts.values())"
   ]
  },
  {
   "cell_type": "code",
   "execution_count": null,
   "id": "2e9c2372-9af6-4dc6-aade-a06be242a3af",
   "metadata": {},
   "outputs": [],
   "source": [
    "# Create a bar plot\n",
    "plt.figure(figsize=(28, 8))\n",
    "plt.bar(nationalities, counts, color='skyblue')\n",
    "\n",
    "plt.xlabel('Nationality')\n",
    "plt.ylabel('Count')\n",
    "plt.xticks(rotation=90)\n",
    "plt.title('Nationality Distribution')\n",
    "\n",
    "plt.show()"
   ]
  },
  {
   "cell_type": "code",
   "execution_count": null,
   "id": "15ca3e1b-5c69-4574-8b65-bf67af6d8f96",
   "metadata": {},
   "outputs": [],
   "source": [
    "# filter unknown nationality\n",
    "plt.figure(figsize=(28, 8))\n",
    "counts.pop(nationalities.index(\"unknown\"))\n",
    "nationalities.pop(nationalities.index(\"unknown\"))\n",
    "plt.bar(nationalities, counts, color='skyblue')\n",
    "\n",
    "plt.xlabel('Nationality')\n",
    "plt.ylabel('Count')\n",
    "plt.xticks(rotation=90)\n",
    "plt.title('Nationality Distribution')\n",
    "\n",
    "plt.show()"
   ]
  },
  {
   "cell_type": "code",
   "execution_count": null,
   "id": "9707ebf0-9806-4d33-aada-e89eb6cf808a",
   "metadata": {},
   "outputs": [],
   "source": []
  }
 ],
 "metadata": {
  "kernelspec": {
   "display_name": "Python 3 (ipykernel)",
   "language": "python",
   "name": "python3"
  },
  "language_info": {
   "codemirror_mode": {
    "name": "ipython",
    "version": 3
   },
   "file_extension": ".py",
   "mimetype": "text/x-python",
   "name": "python",
   "nbconvert_exporter": "python",
   "pygments_lexer": "ipython3",
   "version": "3.11.0rc1"
  }
 },
 "nbformat": 4,
 "nbformat_minor": 5
}
