{
 "cells": [
  {
   "cell_type": "markdown",
   "id": "f453178c-44ff-45e6-99f5-9127b75f3fa7",
   "metadata": {},
   "source": [
    "## Initial experoments with names, name breaking and the current OS name matching\n",
    "\n",
    "Goals: Get hands dirty on the problem and gain an initial understanding."
   ]
  },
  {
   "cell_type": "code",
   "execution_count": 248,
   "id": "fff368df-c97d-4444-8bc7-261a0fa169d2",
   "metadata": {},
   "outputs": [
    {
     "data": {
      "text/plain": [
       "True"
      ]
     },
     "execution_count": 248,
     "metadata": {},
     "output_type": "execute_result"
    }
   ],
   "source": [
    "from dotenv import load_dotenv\n",
    "\n",
    "load_dotenv()"
   ]
  },
  {
   "cell_type": "markdown",
   "id": "490c0f8d-cf9c-40a0-af5e-7d48264a5429",
   "metadata": {},
   "source": [
    "### Create names with faker"
   ]
  },
  {
   "cell_type": "code",
   "execution_count": 73,
   "id": "590ae03a-88de-4f94-a934-9c3c123890dd",
   "metadata": {},
   "outputs": [],
   "source": [
    "from faker import Faker"
   ]
  },
  {
   "cell_type": "code",
   "execution_count": 279,
   "id": "cc1f63ee-ff2f-40cb-a109-263fae540b38",
   "metadata": {},
   "outputs": [
    {
     "data": {
      "text/plain": [
       "'الآنسة اعتماد بنو مهدي'"
      ]
     },
     "execution_count": 279,
     "metadata": {},
     "output_type": "execute_result"
    }
   ],
   "source": [
    "fake = Faker(\"ar_AA\")\n",
    "\n",
    "fake.name()"
   ]
  },
  {
   "cell_type": "code",
   "execution_count": 74,
   "id": "ee69fdd7-46c5-4802-ae3f-aa9b7a8be9ca",
   "metadata": {},
   "outputs": [],
   "source": [
    "import random\n",
    "from typing import List\n",
    "\n",
    "def randomized_locale_name(gen_funcs: List) -> str:\n",
    "    return random.choice(gen_funcs)()\n",
    "\n",
    "def name_gen_factory(locale: str = \"ru_RU\"):\n",
    "    fake = Faker(locale)\n",
    "\n",
    "    def gen_func():\n",
    "        return f\"{fake.first_name()} {fake.last_name()}\"\n",
    "\n",
    "    return gen_func"
   ]
  },
  {
   "cell_type": "code",
   "execution_count": 75,
   "id": "16119f2c-1302-4823-9cef-7e26dc79db2d",
   "metadata": {},
   "outputs": [],
   "source": [
    "generate_german_name = name_gen_factory(\"de_DE\")\n",
    "generate_russian_name = name_gen_factory(\"ru_RU\")\n",
    "generate_arabic_name = name_gen_factory(\"ar_AA\")\n",
    "\n",
    "generators = [\n",
    "    generate_german_name,\n",
    "    generate_russian_name,\n",
    "    generate_arabic_name,\n",
    "]"
   ]
  },
  {
   "cell_type": "code",
   "execution_count": 77,
   "id": "84ef7e34-b3a3-469a-bf3b-dee9f24a06a4",
   "metadata": {},
   "outputs": [],
   "source": [
    "# create a list of true and false matches\n",
    "names = [randomized_locale_name(generators) for _ in range(1000)]\n",
    "\n",
    "positive_pairs = [(n, n, 1.0) for n in names]\n",
    "negative_pairs = [(n, random.choice(names), 0.0) for n in names]"
   ]
  },
  {
   "cell_type": "code",
   "execution_count": 78,
   "id": "220ecf4d-bcbd-43f7-a079-4abe2aeff6dc",
   "metadata": {},
   "outputs": [
    {
     "name": "stdout",
     "output_type": "stream",
     "text": [
      "مرعي ميرفاب\n",
      "Добромысл Макаров\n",
      "Никита Морозова\n",
      "عاقل عامر بن صعصعة\n",
      "Софон Щербаков\n",
      "رجائي رصاص\n",
      "مهيب الشحوح\n",
      "جليل عبد القيس\n",
      "Антип Дорофеева\n",
      "تميم المهرة\n"
     ]
    }
   ],
   "source": [
    "for _ in range(10):\n",
    "    print(randomized_locale_name(generators))"
   ]
  },
  {
   "cell_type": "markdown",
   "id": "5c1a1473-a7fb-423e-bf5b-d467811716c4",
   "metadata": {},
   "source": [
    "### Get the current OS matching algorithm from nomenklatura\n",
    "\n",
    "Code from tests: https://github.com/opensanctions/nomenklatura/blob/main/tests/matching/test_logic.py"
   ]
  },
  {
   "cell_type": "code",
   "execution_count": 63,
   "id": "2755114e-4894-4328-9686-8e87637d78b6",
   "metadata": {},
   "outputs": [],
   "source": [
    "from nomenklatura.matching import LogicV1"
   ]
  },
  {
   "cell_type": "code",
   "execution_count": 64,
   "id": "ccef7aec-b773-4b93-a632-679a4df10104",
   "metadata": {},
   "outputs": [],
   "source": [
    "from banal import ensure_list, hash_data\n",
    "from followthemoney import model\n",
    "from followthemoney.proxy import EntityProxy\n",
    "\n",
    "\n",
    "def e(schema: str, **kwargs) -> EntityProxy:\n",
    "    props = {}\n",
    "    for key, value in kwargs.items():\n",
    "        if value is not None:\n",
    "            props[key] = ensure_list(value)\n",
    "    data = {\"schema\": schema, \"properties\": props, \"id\": hash_data(props)}\n",
    "    return EntityProxy.from_dict(model, data)"
   ]
  },
  {
   "cell_type": "code",
   "execution_count": 65,
   "id": "41a52377-b282-43b2-9e76-f49324519727",
   "metadata": {},
   "outputs": [],
   "source": [
    "def matching_v1(left_name: str, right_name: str) -> float:\n",
    "    a = e(\"Person\", name=pair[0])\n",
    "    b = e(\"Person\", name=pair[1])\n",
    "    return LogicV1.compare(a, b).score"
   ]
  },
  {
   "cell_type": "code",
   "execution_count": 66,
   "id": "3a1a13b1-09af-4b0b-8d19-bb209509153e",
   "metadata": {},
   "outputs": [],
   "source": [
    "# match all positive pairs and look for issues\n",
    "for pair in positive_pairs:\n",
    "    score = matching_v1(pair[0], pair[1])\n",
    "    if score != pair[2]:\n",
    "        print(pair)"
   ]
  },
  {
   "cell_type": "code",
   "execution_count": 67,
   "id": "2923cc39-ccf9-4024-8082-297707332583",
   "metadata": {},
   "outputs": [
    {
     "name": "stdout",
     "output_type": "stream",
     "text": [
      "('Hans-Karl Eberth', 'Hans-Georg Mude', 0.0) 0.3\n",
      "('Мирон Доронина', 'Мирон Никифоров', 0.0) 0.45\n",
      "('Eleonore Flantz', 'Элеонора Рогова', 0.0) 0.45\n",
      "('Милий Блохин', 'Максим Блохина', 0.0) 0.45\n",
      "('Илья Лапина', 'Илья Осипов', 0.0) 0.45\n",
      "('Rita Drewes', 'Helge Drewes', 0.0) 0.45\n",
      "('Гурий Уварова', 'Гурий Жукова', 0.0) 0.45\n",
      "('Викентий Горшков', 'Викентий Сазонова', 0.0) 0.45\n",
      "('Ираида Самсонова', 'Ираида Богданов', 0.0) 0.45\n",
      "('Иванна Рожкова', 'Маргарита Рожкова', 0.0) 0.45\n",
      "('Панфил Кондратьева', 'Ксения Кондратьева', 0.0) 0.45\n",
      "('Delia Werner', 'Wulf Werner', 0.0) 0.45\n",
      "('Евстафий Вишняков', 'Соломон Вишняков', 0.0) 0.45\n",
      "('Игнатий Быков', 'Регина Быков', 0.0) 0.45\n",
      "('Аскольд Федорова', 'Аскольд Шестакова', 0.0) 0.45\n",
      "('Conrad Kobelt', 'Conrad Harloff', 0.0) 0.45\n",
      "('Николай Панов', 'Ладислав Панова', 0.0) 0.45\n",
      "('Ullrich Scheel', 'Gabi Scholl', 0.0) 0.45\n",
      "('Freddy Reinhardt', 'Reinhardt Rust', 0.0) 0.45\n",
      "('Heinz-Jürgen Ebert', 'Hannchen Heinz', 0.0) 0.3\n",
      "('Giesela Schönland', 'Tatiana Schönland', 0.0) 0.45\n",
      "('Ладислав Блинов', 'Ладислав Уварова', 0.0) 0.45\n",
      "('Влас Носкова', 'Влас Королев', 0.0) 0.45\n",
      "('Филипп Меркушев', 'Парфен Меркушев', 0.0) 0.45\n",
      "('Порфирий Константинова', 'Яков Константинов', 0.0) 0.45\n",
      "('Philipp Christoph', 'Philipp Johann', 0.0) 0.45\n",
      "('Helga Kramer', 'Laszlo Kramer', 0.0) 0.45\n",
      "('Stefan Hoffmann', 'Marjan Hoffmann', 0.0) 0.45\n",
      "('Руслан Лебедева', 'Серафим Лебедев', 0.0) 0.45\n"
     ]
    }
   ],
   "source": [
    "# match all negative pairs and look for issues\n",
    "for pair in negative_pairs:\n",
    "    score = matching_v1(pair[0], pair[1])\n",
    "    if score != pair[2]:\n",
    "        print(pair, score)"
   ]
  },
  {
   "cell_type": "markdown",
   "id": "aaf6bc1b-7228-45d3-9d04-22a2415c9898",
   "metadata": {},
   "source": [
    "## Distort names, try to break the matching"
   ]
  },
  {
   "cell_type": "code",
   "execution_count": 232,
   "id": "f90bae64-6291-48a5-b5e0-0fb2ad701a95",
   "metadata": {},
   "outputs": [],
   "source": [
    "def random_distortion(name: str, distortion_functions: List) -> str:\n",
    "    return random.choice(distortion_functions)(name)\n",
    "\n",
    "def remove_whitespace(name: str) -> str:\n",
    "    print(\"remove_whitespace\")\n",
    "    return name.replace(\" \", \"\")\n",
    "\n",
    "def remove_random_char(name: str) -> str:\n",
    "    print(\"remove_random_char\")\n",
    "    return ''.join([char for i, char in enumerate(name) if i != random.randint(0, len(name)-1)])\n",
    "\n",
    "def change_whitespace_order(name: str) -> str:\n",
    "    print(\"change_whitespace_order\")\n",
    "    return \" \".join(name.split(\" \")[::-1])\n",
    "\n",
    "\n",
    "distortion_functions = [\n",
    "    remove_whitespace,\n",
    "    remove_random_char,\n",
    "    change_whitespace_order\n",
    "]"
   ]
  },
  {
   "cell_type": "code",
   "execution_count": 247,
   "id": "bc39dab2-e618-4d26-a0e2-eab2e301f8e3",
   "metadata": {},
   "outputs": [
    {
     "name": "stdout",
     "output_type": "stream",
     "text": [
      "remove_whitespace\n"
     ]
    },
    {
     "data": {
      "text/plain": [
       "'StefanHoffmann'"
      ]
     },
     "execution_count": 247,
     "metadata": {},
     "output_type": "execute_result"
    }
   ],
   "source": [
    "name = \"Stefan Hoffmann\"\n",
    "random_distortion(name, distortion_functions)"
   ]
  },
  {
   "cell_type": "code",
   "execution_count": 254,
   "id": "d1c00e94-6f48-4769-aeb0-564fa3f43c3a",
   "metadata": {},
   "outputs": [],
   "source": [
    "## russian to german and back\n",
    "import os\n",
    "import requests\n",
    "\n",
    "def translate_text(text_to_translate, target_language, api_key):\n",
    "    # DeepL API endpoint\n",
    "    api_url = \"https://api-free.deepl.com/v2/translate\"\n",
    "\n",
    "    # Prepare the request parameters\n",
    "    params = {\n",
    "        'text': text_to_translate,\n",
    "        'target_lang': target_language,\n",
    "        'auth_key': api_key,\n",
    "    }\n",
    "\n",
    "    try:\n",
    "        # Make the request\n",
    "        response = requests.post(api_url, data=params)\n",
    "\n",
    "        # Check if the request was successful (status code 200)\n",
    "        if response.status_code == 200:\n",
    "            # Parse the JSON response\n",
    "            translation_data = response.json()\n",
    "\n",
    "            # Extract and return the translated text\n",
    "            translated_text = translation_data['translations'][0]['text']\n",
    "            return translated_text\n",
    "        else:\n",
    "            print(f\"Error: {response.status_code}\")\n",
    "            print(response.text)\n",
    "            return None\n",
    "    except Exception as e:\n",
    "        print(f\"An error occurred: {e}\")\n",
    "        return None\n",
    "\n",
    "# Example usage\n",
    "api_key = os.environ.get('DEEPL_API_KEY')"
   ]
  },
  {
   "cell_type": "code",
   "execution_count": 273,
   "id": "a2d6391b-d940-4abb-86ca-36dba6949dde",
   "metadata": {},
   "outputs": [],
   "source": [
    "orig_name = \"Евстафий Вишняков\"\n",
    "translated_name = translate_text(text_to_translate=orig_name, target_language=\"DE\", api_key=api_key)"
   ]
  },
  {
   "cell_type": "code",
   "execution_count": 274,
   "id": "bfc0859d-5d22-477f-b829-bb7be582da2e",
   "metadata": {},
   "outputs": [
    {
     "data": {
      "text/plain": [
       "'Evstafiy Vishnyakov'"
      ]
     },
     "execution_count": 274,
     "metadata": {},
     "output_type": "execute_result"
    }
   ],
   "source": [
    "translated_name"
   ]
  },
  {
   "cell_type": "code",
   "execution_count": 275,
   "id": "52185450-0ea0-48b9-ac82-87d71a684243",
   "metadata": {},
   "outputs": [],
   "source": [
    "backtranslated_name = translate_text(text_to_translate=translated_name, target_language=\"RU\", api_key=api_key)"
   ]
  },
  {
   "cell_type": "code",
   "execution_count": 276,
   "id": "5ac0ab10-412e-409d-bc7d-5333a0090236",
   "metadata": {},
   "outputs": [],
   "source": [
    "assert backtranslated_name == orig_name"
   ]
  },
  {
   "cell_type": "code",
   "execution_count": 277,
   "id": "1a9352ed-5248-40de-b50c-c5f64330531d",
   "metadata": {},
   "outputs": [
    {
     "data": {
      "text/plain": [
       "'Евстафий Вишняков'"
      ]
     },
     "execution_count": 277,
     "metadata": {},
     "output_type": "execute_result"
    }
   ],
   "source": [
    "backtranslated_name"
   ]
  },
  {
   "cell_type": "code",
   "execution_count": 278,
   "id": "dfbddc27-562c-4f08-b95d-e641bff199e0",
   "metadata": {},
   "outputs": [
    {
     "data": {
      "text/plain": [
       "0.0"
      ]
     },
     "execution_count": 278,
     "metadata": {},
     "output_type": "execute_result"
    }
   ],
   "source": [
    "matching_v1(translated_name, backtranslated_name)"
   ]
  },
  {
   "cell_type": "code",
   "execution_count": 283,
   "id": "bc225280-496f-4399-82c0-3bb050894ab4",
   "metadata": {},
   "outputs": [
    {
     "name": "stdout",
     "output_type": "stream",
     "text": [
      "Rita Drewes \t\t Helge Drewes \t\t Score: 0.4902\n",
      "Илья Лапина \t\t Илья Осипов \t\t Score: 0.7966\n",
      "Ullrich Scheel \t\t Gabi Scholl \t\t Score: 0.6045\n"
     ]
    }
   ],
   "source": [
    "### Try sentence transformers\n",
    "from sentence_transformers import SentenceTransformer, util\n",
    "\n",
    "model = SentenceTransformer(\"all-MiniLM-L6-v2\")\n",
    "\n",
    "# Two lists of sentences\n",
    "sentences1 = [\n",
    "    'Rita Drewes', \n",
    "    'Илья Лапина', \n",
    "    'Ullrich Scheel',\n",
    "]\n",
    "\n",
    "sentences2 = [\n",
    "    'Helge Drewes',\n",
    "    'Илья Осипов',\n",
    "    'Gabi Scholl',\n",
    "]\n",
    "\n",
    "# Compute embedding for both lists\n",
    "embeddings1 = model.encode(sentences1, convert_to_tensor=True)\n",
    "embeddings2 = model.encode(sentences2, convert_to_tensor=True)\n",
    "\n",
    "# Compute cosine-similarities\n",
    "cosine_scores = util.cos_sim(embeddings1, embeddings2)\n",
    "\n",
    "# Output the pairs with their score\n",
    "for i in range(len(sentences1)):\n",
    "    print(\"{} \\t\\t {} \\t\\t Score: {:.4f}\".format(\n",
    "        sentences1[i], sentences2[i], cosine_scores[i][i]\n",
    "    ))"
   ]
  },
  {
   "cell_type": "code",
   "execution_count": null,
   "id": "0e10a8e2-00ac-4ca6-83df-7ebc705669d0",
   "metadata": {},
   "outputs": [],
   "source": []
  }
 ],
 "metadata": {
  "kernelspec": {
   "display_name": "Python 3 (ipykernel)",
   "language": "python",
   "name": "python3"
  },
  "language_info": {
   "codemirror_mode": {
    "name": "ipython",
    "version": 3
   },
   "file_extension": ".py",
   "mimetype": "text/x-python",
   "name": "python",
   "nbconvert_exporter": "python",
   "pygments_lexer": "ipython3",
   "version": "3.11.7"
  }
 },
 "nbformat": 4,
 "nbformat_minor": 5
}
